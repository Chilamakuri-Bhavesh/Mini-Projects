{
 "cells": [
  {
   "cell_type": "code",
   "execution_count": 1,
   "id": "dd2502ac",
   "metadata": {},
   "outputs": [],
   "source": [
    "import numpy as np\n",
    "import pandas as pd\n",
    "import matplotlib.pyplot as plt\n",
    "import seaborn as sns\n",
    "\n",
    "import re\n",
    "\n",
    "import mysql.connector as sql\n",
    "from sqlalchemy import create_engine\n",
    "\n",
    "import requests\n",
    "from bs4 import BeautifulSoup\n",
    "\n",
    "import time"
   ]
  },
  {
   "cell_type": "code",
   "execution_count": 2,
   "id": "de7a350c",
   "metadata": {},
   "outputs": [],
   "source": [
    "formated_url=\"https://www.imdb.com/search/title/?groups=top_1000&sort=user_rating,desc&count=100&start={start:}&ref_=adv_nxt\"\n",
    "\n",
    "title = []\n",
    "year = []\n",
    "\n",
    "certificate = []\n",
    "gross = []\n",
    "genre = []\n",
    "run_time = []\n",
    "rating = []\n",
    "\n",
    "page_numbers=[0,101,201,301,401,501,601,701,801,901]\n",
    "\n",
    "for i in page_numbers:\n",
    "    url=formated_url.format(start=i)\n",
    "    \n",
    "    page=requests.get(url)\n",
    "    \n",
    "    soup= BeautifulSoup(page.content , \"html.parser\")\n",
    "    \n",
    "    scraped_year = soup.find_all(\"span\" ,class_ =\"lister-item-year text-muted unbold\")\n",
    "            \n",
    "    for YEAR in scraped_year:\n",
    "        year.append(YEAR.get_text())\n",
    "            \n",
    "    scraped_title = soup.find_all(\"h3\" ,class_ =\"lister-item-header\")\n",
    "    \n",
    "    for TITLE in scraped_title:\n",
    "        title.append(TITLE.get_text().replace(\"\\n\",\"\"))\n",
    "            \n",
    "    scraped_rating = soup.find_all(\"strong\" )\n",
    "        \n",
    "    for RATING in scraped_rating:\n",
    "        rating.append(RATING.get_text())\n",
    "        \n",
    "    scraped_run_time = soup.find_all( class_=\"runtime\" )\n",
    "    \n",
    "    for RUNTIME in scraped_run_time:\n",
    "        run_time.append(RUNTIME.get_text())\n",
    "        \n",
    "    scraped_genre= soup.find_all(\"span\",class_=\"genre\")\n",
    "    \n",
    "    for GENRE in scraped_genre:\n",
    "        genre.append(GENRE.text.strip())\n",
    "                         \n",
    "    time.sleep(3)\n",
    "    "
   ]
  },
  {
   "cell_type": "markdown",
   "id": "d7479c16",
   "metadata": {},
   "source": [
    "## REMOVING UNWANTED TEXT FROM RATING COLUMN"
   ]
  },
  {
   "cell_type": "code",
   "execution_count": 3,
   "id": "6e8940b3",
   "metadata": {},
   "outputs": [],
   "source": [
    "R=rating.copy()"
   ]
  },
  {
   "cell_type": "code",
   "execution_count": 4,
   "id": "6cc9a919",
   "metadata": {},
   "outputs": [],
   "source": [
    "Ratings_df=pd.DataFrame(R)"
   ]
  },
  {
   "cell_type": "code",
   "execution_count": 5,
   "id": "8dc77529",
   "metadata": {},
   "outputs": [],
   "source": [
    "Ratings_df.replace([\"Detailed\",\"User Rating\"],np.nan,inplace=True)"
   ]
  },
  {
   "cell_type": "code",
   "execution_count": 6,
   "id": "856eff52",
   "metadata": {},
   "outputs": [
    {
     "data": {
      "text/plain": [
       "0    20\n",
       "dtype: int64"
      ]
     },
     "execution_count": 6,
     "metadata": {},
     "output_type": "execute_result"
    }
   ],
   "source": [
    "Ratings_df.isnull().sum()"
   ]
  },
  {
   "cell_type": "code",
   "execution_count": 7,
   "id": "5add5698",
   "metadata": {},
   "outputs": [],
   "source": [
    "Ratings_df.dropna(inplace=True)"
   ]
  },
  {
   "cell_type": "code",
   "execution_count": 8,
   "id": "b3fd8898",
   "metadata": {},
   "outputs": [],
   "source": [
    "Ratings_df.reset_index(inplace=True)"
   ]
  },
  {
   "cell_type": "code",
   "execution_count": 9,
   "id": "d6b71cb6",
   "metadata": {},
   "outputs": [],
   "source": [
    "Ratings_df.drop([\"index\"],axis=1,inplace=True)"
   ]
  },
  {
   "cell_type": "code",
   "execution_count": 10,
   "id": "3867109f",
   "metadata": {},
   "outputs": [],
   "source": [
    "df=pd.DataFrame()"
   ]
  },
  {
   "cell_type": "markdown",
   "id": "842fe801",
   "metadata": {},
   "source": [
    "## CREATING A DATA FRAME FOR TOP 1000 MOVIES FROM IMDB WEBSITE"
   ]
  },
  {
   "cell_type": "code",
   "execution_count": 11,
   "id": "c0c13a86",
   "metadata": {},
   "outputs": [],
   "source": [
    "df[\"Rank\"]=np.arange(1,1001)"
   ]
  },
  {
   "cell_type": "code",
   "execution_count": 12,
   "id": "abba78fa",
   "metadata": {},
   "outputs": [],
   "source": [
    "df[\"Title\"] = title"
   ]
  },
  {
   "cell_type": "code",
   "execution_count": 13,
   "id": "94697c0f",
   "metadata": {},
   "outputs": [],
   "source": [
    "df[\"Year\"] = year"
   ]
  },
  {
   "cell_type": "code",
   "execution_count": 14,
   "id": "23d742c1",
   "metadata": {},
   "outputs": [],
   "source": [
    "df[\"Rating\"] = Ratings_df"
   ]
  },
  {
   "cell_type": "code",
   "execution_count": 15,
   "id": "1815ad8c",
   "metadata": {},
   "outputs": [],
   "source": [
    "df[\"Run Time (min)\"] = run_time"
   ]
  },
  {
   "cell_type": "code",
   "execution_count": 16,
   "id": "7dc983e7",
   "metadata": {},
   "outputs": [],
   "source": [
    "df[\"Genre\"] = genre"
   ]
  },
  {
   "cell_type": "code",
   "execution_count": 17,
   "id": "f47adf5a",
   "metadata": {},
   "outputs": [
    {
     "data": {
      "text/html": [
       "<div>\n",
       "<style scoped>\n",
       "    .dataframe tbody tr th:only-of-type {\n",
       "        vertical-align: middle;\n",
       "    }\n",
       "\n",
       "    .dataframe tbody tr th {\n",
       "        vertical-align: top;\n",
       "    }\n",
       "\n",
       "    .dataframe thead th {\n",
       "        text-align: right;\n",
       "    }\n",
       "</style>\n",
       "<table border=\"1\" class=\"dataframe\">\n",
       "  <thead>\n",
       "    <tr style=\"text-align: right;\">\n",
       "      <th></th>\n",
       "      <th>Rank</th>\n",
       "      <th>Title</th>\n",
       "      <th>Year</th>\n",
       "      <th>Rating</th>\n",
       "      <th>Run Time (min)</th>\n",
       "      <th>Genre</th>\n",
       "    </tr>\n",
       "  </thead>\n",
       "  <tbody>\n",
       "    <tr>\n",
       "      <th>0</th>\n",
       "      <td>1</td>\n",
       "      <td>1.The Shawshank Redemption(1994)</td>\n",
       "      <td>(1994)</td>\n",
       "      <td>9.3</td>\n",
       "      <td>142 min</td>\n",
       "      <td>Drama</td>\n",
       "    </tr>\n",
       "    <tr>\n",
       "      <th>1</th>\n",
       "      <td>2</td>\n",
       "      <td>2.The Godfather(1972)</td>\n",
       "      <td>(1972)</td>\n",
       "      <td>9.2</td>\n",
       "      <td>175 min</td>\n",
       "      <td>Crime, Drama</td>\n",
       "    </tr>\n",
       "    <tr>\n",
       "      <th>2</th>\n",
       "      <td>3</td>\n",
       "      <td>3.The Dark Knight(2008)</td>\n",
       "      <td>(2008)</td>\n",
       "      <td>9.0</td>\n",
       "      <td>152 min</td>\n",
       "      <td>Action, Crime, Drama</td>\n",
       "    </tr>\n",
       "    <tr>\n",
       "      <th>3</th>\n",
       "      <td>4</td>\n",
       "      <td>4.The Lord of the Rings: The Return of the Kin...</td>\n",
       "      <td>(2003)</td>\n",
       "      <td>9.0</td>\n",
       "      <td>201 min</td>\n",
       "      <td>Action, Adventure, Drama</td>\n",
       "    </tr>\n",
       "    <tr>\n",
       "      <th>4</th>\n",
       "      <td>5</td>\n",
       "      <td>5.Schindler's List(1993)</td>\n",
       "      <td>(1993)</td>\n",
       "      <td>9.0</td>\n",
       "      <td>195 min</td>\n",
       "      <td>Biography, Drama, History</td>\n",
       "    </tr>\n",
       "    <tr>\n",
       "      <th>...</th>\n",
       "      <td>...</td>\n",
       "      <td>...</td>\n",
       "      <td>...</td>\n",
       "      <td>...</td>\n",
       "      <td>...</td>\n",
       "      <td>...</td>\n",
       "    </tr>\n",
       "    <tr>\n",
       "      <th>995</th>\n",
       "      <td>996</td>\n",
       "      <td>996.Control(2007)</td>\n",
       "      <td>(2007)</td>\n",
       "      <td>7.6</td>\n",
       "      <td>122 min</td>\n",
       "      <td>Biography, Drama, Music</td>\n",
       "    </tr>\n",
       "    <tr>\n",
       "      <th>996</th>\n",
       "      <td>997</td>\n",
       "      <td>997.Les yeux sans visage(1960)</td>\n",
       "      <td>(1960)</td>\n",
       "      <td>7.6</td>\n",
       "      <td>90 min</td>\n",
       "      <td>Drama, Horror</td>\n",
       "    </tr>\n",
       "    <tr>\n",
       "      <th>997</th>\n",
       "      <td>998</td>\n",
       "      <td>998.Shine(1996)</td>\n",
       "      <td>(1996)</td>\n",
       "      <td>7.6</td>\n",
       "      <td>105 min</td>\n",
       "      <td>Biography, Drama, Music</td>\n",
       "    </tr>\n",
       "    <tr>\n",
       "      <th>998</th>\n",
       "      <td>999</td>\n",
       "      <td>999.The Invisible Man(1933)</td>\n",
       "      <td>(1933)</td>\n",
       "      <td>7.6</td>\n",
       "      <td>71 min</td>\n",
       "      <td>Horror, Sci-Fi</td>\n",
       "    </tr>\n",
       "    <tr>\n",
       "      <th>999</th>\n",
       "      <td>1000</td>\n",
       "      <td>1,000.Celda 211(2009)</td>\n",
       "      <td>(2009)</td>\n",
       "      <td>7.6</td>\n",
       "      <td>113 min</td>\n",
       "      <td>Action, Adventure, Crime</td>\n",
       "    </tr>\n",
       "  </tbody>\n",
       "</table>\n",
       "<p>1000 rows × 6 columns</p>\n",
       "</div>"
      ],
      "text/plain": [
       "     Rank                                              Title    Year Rating  \\\n",
       "0       1                   1.The Shawshank Redemption(1994)  (1994)    9.3   \n",
       "1       2                              2.The Godfather(1972)  (1972)    9.2   \n",
       "2       3                            3.The Dark Knight(2008)  (2008)    9.0   \n",
       "3       4  4.The Lord of the Rings: The Return of the Kin...  (2003)    9.0   \n",
       "4       5                           5.Schindler's List(1993)  (1993)    9.0   \n",
       "..    ...                                                ...     ...    ...   \n",
       "995   996                                  996.Control(2007)  (2007)    7.6   \n",
       "996   997                     997.Les yeux sans visage(1960)  (1960)    7.6   \n",
       "997   998                                    998.Shine(1996)  (1996)    7.6   \n",
       "998   999                        999.The Invisible Man(1933)  (1933)    7.6   \n",
       "999  1000                              1,000.Celda 211(2009)  (2009)    7.6   \n",
       "\n",
       "    Run Time (min)                      Genre  \n",
       "0          142 min                      Drama  \n",
       "1          175 min               Crime, Drama  \n",
       "2          152 min       Action, Crime, Drama  \n",
       "3          201 min   Action, Adventure, Drama  \n",
       "4          195 min  Biography, Drama, History  \n",
       "..             ...                        ...  \n",
       "995        122 min    Biography, Drama, Music  \n",
       "996         90 min              Drama, Horror  \n",
       "997        105 min    Biography, Drama, Music  \n",
       "998         71 min             Horror, Sci-Fi  \n",
       "999        113 min   Action, Adventure, Crime  \n",
       "\n",
       "[1000 rows x 6 columns]"
      ]
     },
     "execution_count": 17,
     "metadata": {},
     "output_type": "execute_result"
    }
   ],
   "source": [
    "df"
   ]
  },
  {
   "cell_type": "code",
   "execution_count": 18,
   "id": "7a1f7854",
   "metadata": {},
   "outputs": [],
   "source": [
    "df1=df.copy()"
   ]
  },
  {
   "cell_type": "markdown",
   "id": "d543cd53",
   "metadata": {},
   "source": [
    "## CLEANING COLUMNS"
   ]
  },
  {
   "cell_type": "markdown",
   "id": "67b8e40d",
   "metadata": {},
   "source": [
    "## TITLE COLUMN"
   ]
  },
  {
   "cell_type": "code",
   "execution_count": 19,
   "id": "f26ae30e",
   "metadata": {},
   "outputs": [],
   "source": [
    "def title(text):\n",
    "    result=re.sub(\"(^\\d+\\.)\",\"\",str(text))\n",
    "    result=re.sub(\"\\(\\d+\\)\",\"\",str(result))\n",
    "    result=re.sub(\"1,000.\",\"\",str(result))\n",
    "    result=result.strip()\n",
    "    \n",
    "    return result"
   ]
  },
  {
   "cell_type": "code",
   "execution_count": 20,
   "id": "27f74cb8",
   "metadata": {},
   "outputs": [],
   "source": [
    "df[\"Title\"]=df[\"Title\"].apply(title)"
   ]
  },
  {
   "cell_type": "code",
   "execution_count": 21,
   "id": "f9798bf7",
   "metadata": {},
   "outputs": [
    {
     "data": {
      "text/html": [
       "<div>\n",
       "<style scoped>\n",
       "    .dataframe tbody tr th:only-of-type {\n",
       "        vertical-align: middle;\n",
       "    }\n",
       "\n",
       "    .dataframe tbody tr th {\n",
       "        vertical-align: top;\n",
       "    }\n",
       "\n",
       "    .dataframe thead th {\n",
       "        text-align: right;\n",
       "    }\n",
       "</style>\n",
       "<table border=\"1\" class=\"dataframe\">\n",
       "  <thead>\n",
       "    <tr style=\"text-align: right;\">\n",
       "      <th></th>\n",
       "      <th>Rank</th>\n",
       "      <th>Title</th>\n",
       "      <th>Year</th>\n",
       "      <th>Rating</th>\n",
       "      <th>Run Time (min)</th>\n",
       "      <th>Genre</th>\n",
       "    </tr>\n",
       "  </thead>\n",
       "  <tbody>\n",
       "    <tr>\n",
       "      <th>0</th>\n",
       "      <td>1</td>\n",
       "      <td>The Shawshank Redemption</td>\n",
       "      <td>(1994)</td>\n",
       "      <td>9.3</td>\n",
       "      <td>142 min</td>\n",
       "      <td>Drama</td>\n",
       "    </tr>\n",
       "    <tr>\n",
       "      <th>1</th>\n",
       "      <td>2</td>\n",
       "      <td>The Godfather</td>\n",
       "      <td>(1972)</td>\n",
       "      <td>9.2</td>\n",
       "      <td>175 min</td>\n",
       "      <td>Crime, Drama</td>\n",
       "    </tr>\n",
       "    <tr>\n",
       "      <th>2</th>\n",
       "      <td>3</td>\n",
       "      <td>The Dark Knight</td>\n",
       "      <td>(2008)</td>\n",
       "      <td>9.0</td>\n",
       "      <td>152 min</td>\n",
       "      <td>Action, Crime, Drama</td>\n",
       "    </tr>\n",
       "    <tr>\n",
       "      <th>3</th>\n",
       "      <td>4</td>\n",
       "      <td>The Lord of the Rings: The Return of the King</td>\n",
       "      <td>(2003)</td>\n",
       "      <td>9.0</td>\n",
       "      <td>201 min</td>\n",
       "      <td>Action, Adventure, Drama</td>\n",
       "    </tr>\n",
       "    <tr>\n",
       "      <th>4</th>\n",
       "      <td>5</td>\n",
       "      <td>Schindler's List</td>\n",
       "      <td>(1993)</td>\n",
       "      <td>9.0</td>\n",
       "      <td>195 min</td>\n",
       "      <td>Biography, Drama, History</td>\n",
       "    </tr>\n",
       "    <tr>\n",
       "      <th>...</th>\n",
       "      <td>...</td>\n",
       "      <td>...</td>\n",
       "      <td>...</td>\n",
       "      <td>...</td>\n",
       "      <td>...</td>\n",
       "      <td>...</td>\n",
       "    </tr>\n",
       "    <tr>\n",
       "      <th>995</th>\n",
       "      <td>996</td>\n",
       "      <td>Control</td>\n",
       "      <td>(2007)</td>\n",
       "      <td>7.6</td>\n",
       "      <td>122 min</td>\n",
       "      <td>Biography, Drama, Music</td>\n",
       "    </tr>\n",
       "    <tr>\n",
       "      <th>996</th>\n",
       "      <td>997</td>\n",
       "      <td>Les yeux sans visage</td>\n",
       "      <td>(1960)</td>\n",
       "      <td>7.6</td>\n",
       "      <td>90 min</td>\n",
       "      <td>Drama, Horror</td>\n",
       "    </tr>\n",
       "    <tr>\n",
       "      <th>997</th>\n",
       "      <td>998</td>\n",
       "      <td>Shine</td>\n",
       "      <td>(1996)</td>\n",
       "      <td>7.6</td>\n",
       "      <td>105 min</td>\n",
       "      <td>Biography, Drama, Music</td>\n",
       "    </tr>\n",
       "    <tr>\n",
       "      <th>998</th>\n",
       "      <td>999</td>\n",
       "      <td>The Invisible Man</td>\n",
       "      <td>(1933)</td>\n",
       "      <td>7.6</td>\n",
       "      <td>71 min</td>\n",
       "      <td>Horror, Sci-Fi</td>\n",
       "    </tr>\n",
       "    <tr>\n",
       "      <th>999</th>\n",
       "      <td>1000</td>\n",
       "      <td>Celda 211</td>\n",
       "      <td>(2009)</td>\n",
       "      <td>7.6</td>\n",
       "      <td>113 min</td>\n",
       "      <td>Action, Adventure, Crime</td>\n",
       "    </tr>\n",
       "  </tbody>\n",
       "</table>\n",
       "<p>1000 rows × 6 columns</p>\n",
       "</div>"
      ],
      "text/plain": [
       "     Rank                                          Title    Year Rating  \\\n",
       "0       1                       The Shawshank Redemption  (1994)    9.3   \n",
       "1       2                                  The Godfather  (1972)    9.2   \n",
       "2       3                                The Dark Knight  (2008)    9.0   \n",
       "3       4  The Lord of the Rings: The Return of the King  (2003)    9.0   \n",
       "4       5                               Schindler's List  (1993)    9.0   \n",
       "..    ...                                            ...     ...    ...   \n",
       "995   996                                        Control  (2007)    7.6   \n",
       "996   997                           Les yeux sans visage  (1960)    7.6   \n",
       "997   998                                          Shine  (1996)    7.6   \n",
       "998   999                              The Invisible Man  (1933)    7.6   \n",
       "999  1000                                      Celda 211  (2009)    7.6   \n",
       "\n",
       "    Run Time (min)                      Genre  \n",
       "0          142 min                      Drama  \n",
       "1          175 min               Crime, Drama  \n",
       "2          152 min       Action, Crime, Drama  \n",
       "3          201 min   Action, Adventure, Drama  \n",
       "4          195 min  Biography, Drama, History  \n",
       "..             ...                        ...  \n",
       "995        122 min    Biography, Drama, Music  \n",
       "996         90 min              Drama, Horror  \n",
       "997        105 min    Biography, Drama, Music  \n",
       "998         71 min             Horror, Sci-Fi  \n",
       "999        113 min   Action, Adventure, Crime  \n",
       "\n",
       "[1000 rows x 6 columns]"
      ]
     },
     "execution_count": 21,
     "metadata": {},
     "output_type": "execute_result"
    }
   ],
   "source": [
    "df"
   ]
  },
  {
   "cell_type": "markdown",
   "id": "c99e2d8e",
   "metadata": {},
   "source": [
    "## YEAR"
   ]
  },
  {
   "cell_type": "code",
   "execution_count": 22,
   "id": "f7b3a67d",
   "metadata": {},
   "outputs": [],
   "source": [
    "def year(text):\n",
    "    result=re.sub(\"[\\(\\)]\",\"\",str(text))\n",
    "    result=result.strip()\n",
    "    \n",
    "    return result"
   ]
  },
  {
   "cell_type": "code",
   "execution_count": 23,
   "id": "b50d4e8c",
   "metadata": {},
   "outputs": [],
   "source": [
    "df[\"Year\"]=df[\"Year\"].apply(year)"
   ]
  },
  {
   "cell_type": "code",
   "execution_count": 24,
   "id": "4ef32faf",
   "metadata": {},
   "outputs": [
    {
     "data": {
      "text/html": [
       "<div>\n",
       "<style scoped>\n",
       "    .dataframe tbody tr th:only-of-type {\n",
       "        vertical-align: middle;\n",
       "    }\n",
       "\n",
       "    .dataframe tbody tr th {\n",
       "        vertical-align: top;\n",
       "    }\n",
       "\n",
       "    .dataframe thead th {\n",
       "        text-align: right;\n",
       "    }\n",
       "</style>\n",
       "<table border=\"1\" class=\"dataframe\">\n",
       "  <thead>\n",
       "    <tr style=\"text-align: right;\">\n",
       "      <th></th>\n",
       "      <th>Rank</th>\n",
       "      <th>Title</th>\n",
       "      <th>Year</th>\n",
       "      <th>Rating</th>\n",
       "      <th>Run Time (min)</th>\n",
       "      <th>Genre</th>\n",
       "    </tr>\n",
       "  </thead>\n",
       "  <tbody>\n",
       "    <tr>\n",
       "      <th>0</th>\n",
       "      <td>1</td>\n",
       "      <td>The Shawshank Redemption</td>\n",
       "      <td>1994</td>\n",
       "      <td>9.3</td>\n",
       "      <td>142 min</td>\n",
       "      <td>Drama</td>\n",
       "    </tr>\n",
       "    <tr>\n",
       "      <th>1</th>\n",
       "      <td>2</td>\n",
       "      <td>The Godfather</td>\n",
       "      <td>1972</td>\n",
       "      <td>9.2</td>\n",
       "      <td>175 min</td>\n",
       "      <td>Crime, Drama</td>\n",
       "    </tr>\n",
       "    <tr>\n",
       "      <th>2</th>\n",
       "      <td>3</td>\n",
       "      <td>The Dark Knight</td>\n",
       "      <td>2008</td>\n",
       "      <td>9.0</td>\n",
       "      <td>152 min</td>\n",
       "      <td>Action, Crime, Drama</td>\n",
       "    </tr>\n",
       "    <tr>\n",
       "      <th>3</th>\n",
       "      <td>4</td>\n",
       "      <td>The Lord of the Rings: The Return of the King</td>\n",
       "      <td>2003</td>\n",
       "      <td>9.0</td>\n",
       "      <td>201 min</td>\n",
       "      <td>Action, Adventure, Drama</td>\n",
       "    </tr>\n",
       "    <tr>\n",
       "      <th>4</th>\n",
       "      <td>5</td>\n",
       "      <td>Schindler's List</td>\n",
       "      <td>1993</td>\n",
       "      <td>9.0</td>\n",
       "      <td>195 min</td>\n",
       "      <td>Biography, Drama, History</td>\n",
       "    </tr>\n",
       "    <tr>\n",
       "      <th>...</th>\n",
       "      <td>...</td>\n",
       "      <td>...</td>\n",
       "      <td>...</td>\n",
       "      <td>...</td>\n",
       "      <td>...</td>\n",
       "      <td>...</td>\n",
       "    </tr>\n",
       "    <tr>\n",
       "      <th>995</th>\n",
       "      <td>996</td>\n",
       "      <td>Control</td>\n",
       "      <td>2007</td>\n",
       "      <td>7.6</td>\n",
       "      <td>122 min</td>\n",
       "      <td>Biography, Drama, Music</td>\n",
       "    </tr>\n",
       "    <tr>\n",
       "      <th>996</th>\n",
       "      <td>997</td>\n",
       "      <td>Les yeux sans visage</td>\n",
       "      <td>1960</td>\n",
       "      <td>7.6</td>\n",
       "      <td>90 min</td>\n",
       "      <td>Drama, Horror</td>\n",
       "    </tr>\n",
       "    <tr>\n",
       "      <th>997</th>\n",
       "      <td>998</td>\n",
       "      <td>Shine</td>\n",
       "      <td>1996</td>\n",
       "      <td>7.6</td>\n",
       "      <td>105 min</td>\n",
       "      <td>Biography, Drama, Music</td>\n",
       "    </tr>\n",
       "    <tr>\n",
       "      <th>998</th>\n",
       "      <td>999</td>\n",
       "      <td>The Invisible Man</td>\n",
       "      <td>1933</td>\n",
       "      <td>7.6</td>\n",
       "      <td>71 min</td>\n",
       "      <td>Horror, Sci-Fi</td>\n",
       "    </tr>\n",
       "    <tr>\n",
       "      <th>999</th>\n",
       "      <td>1000</td>\n",
       "      <td>Celda 211</td>\n",
       "      <td>2009</td>\n",
       "      <td>7.6</td>\n",
       "      <td>113 min</td>\n",
       "      <td>Action, Adventure, Crime</td>\n",
       "    </tr>\n",
       "  </tbody>\n",
       "</table>\n",
       "<p>1000 rows × 6 columns</p>\n",
       "</div>"
      ],
      "text/plain": [
       "     Rank                                          Title  Year Rating  \\\n",
       "0       1                       The Shawshank Redemption  1994    9.3   \n",
       "1       2                                  The Godfather  1972    9.2   \n",
       "2       3                                The Dark Knight  2008    9.0   \n",
       "3       4  The Lord of the Rings: The Return of the King  2003    9.0   \n",
       "4       5                               Schindler's List  1993    9.0   \n",
       "..    ...                                            ...   ...    ...   \n",
       "995   996                                        Control  2007    7.6   \n",
       "996   997                           Les yeux sans visage  1960    7.6   \n",
       "997   998                                          Shine  1996    7.6   \n",
       "998   999                              The Invisible Man  1933    7.6   \n",
       "999  1000                                      Celda 211  2009    7.6   \n",
       "\n",
       "    Run Time (min)                      Genre  \n",
       "0          142 min                      Drama  \n",
       "1          175 min               Crime, Drama  \n",
       "2          152 min       Action, Crime, Drama  \n",
       "3          201 min   Action, Adventure, Drama  \n",
       "4          195 min  Biography, Drama, History  \n",
       "..             ...                        ...  \n",
       "995        122 min    Biography, Drama, Music  \n",
       "996         90 min              Drama, Horror  \n",
       "997        105 min    Biography, Drama, Music  \n",
       "998         71 min             Horror, Sci-Fi  \n",
       "999        113 min   Action, Adventure, Crime  \n",
       "\n",
       "[1000 rows x 6 columns]"
      ]
     },
     "execution_count": 24,
     "metadata": {},
     "output_type": "execute_result"
    }
   ],
   "source": [
    "df"
   ]
  },
  {
   "cell_type": "markdown",
   "id": "cbc84ba5",
   "metadata": {},
   "source": [
    "## RUN TIME"
   ]
  },
  {
   "cell_type": "code",
   "execution_count": 25,
   "id": "3d3b6c41",
   "metadata": {},
   "outputs": [],
   "source": [
    "def run_time(text):\n",
    "    result=re.sub(\"min\",\"\",str(text))\n",
    "    result=result.strip()\n",
    "    return result"
   ]
  },
  {
   "cell_type": "code",
   "execution_count": 26,
   "id": "b245010f",
   "metadata": {},
   "outputs": [],
   "source": [
    "df[\"Run Time (min)\"] = df[\"Run Time (min)\"].apply(run_time)"
   ]
  },
  {
   "cell_type": "code",
   "execution_count": 27,
   "id": "3f992ac9",
   "metadata": {},
   "outputs": [
    {
     "data": {
      "text/html": [
       "<div>\n",
       "<style scoped>\n",
       "    .dataframe tbody tr th:only-of-type {\n",
       "        vertical-align: middle;\n",
       "    }\n",
       "\n",
       "    .dataframe tbody tr th {\n",
       "        vertical-align: top;\n",
       "    }\n",
       "\n",
       "    .dataframe thead th {\n",
       "        text-align: right;\n",
       "    }\n",
       "</style>\n",
       "<table border=\"1\" class=\"dataframe\">\n",
       "  <thead>\n",
       "    <tr style=\"text-align: right;\">\n",
       "      <th></th>\n",
       "      <th>Rank</th>\n",
       "      <th>Title</th>\n",
       "      <th>Year</th>\n",
       "      <th>Rating</th>\n",
       "      <th>Run Time (min)</th>\n",
       "      <th>Genre</th>\n",
       "    </tr>\n",
       "  </thead>\n",
       "  <tbody>\n",
       "    <tr>\n",
       "      <th>0</th>\n",
       "      <td>1</td>\n",
       "      <td>The Shawshank Redemption</td>\n",
       "      <td>1994</td>\n",
       "      <td>9.3</td>\n",
       "      <td>142</td>\n",
       "      <td>Drama</td>\n",
       "    </tr>\n",
       "    <tr>\n",
       "      <th>1</th>\n",
       "      <td>2</td>\n",
       "      <td>The Godfather</td>\n",
       "      <td>1972</td>\n",
       "      <td>9.2</td>\n",
       "      <td>175</td>\n",
       "      <td>Crime, Drama</td>\n",
       "    </tr>\n",
       "    <tr>\n",
       "      <th>2</th>\n",
       "      <td>3</td>\n",
       "      <td>The Dark Knight</td>\n",
       "      <td>2008</td>\n",
       "      <td>9.0</td>\n",
       "      <td>152</td>\n",
       "      <td>Action, Crime, Drama</td>\n",
       "    </tr>\n",
       "    <tr>\n",
       "      <th>3</th>\n",
       "      <td>4</td>\n",
       "      <td>The Lord of the Rings: The Return of the King</td>\n",
       "      <td>2003</td>\n",
       "      <td>9.0</td>\n",
       "      <td>201</td>\n",
       "      <td>Action, Adventure, Drama</td>\n",
       "    </tr>\n",
       "    <tr>\n",
       "      <th>4</th>\n",
       "      <td>5</td>\n",
       "      <td>Schindler's List</td>\n",
       "      <td>1993</td>\n",
       "      <td>9.0</td>\n",
       "      <td>195</td>\n",
       "      <td>Biography, Drama, History</td>\n",
       "    </tr>\n",
       "    <tr>\n",
       "      <th>...</th>\n",
       "      <td>...</td>\n",
       "      <td>...</td>\n",
       "      <td>...</td>\n",
       "      <td>...</td>\n",
       "      <td>...</td>\n",
       "      <td>...</td>\n",
       "    </tr>\n",
       "    <tr>\n",
       "      <th>995</th>\n",
       "      <td>996</td>\n",
       "      <td>Control</td>\n",
       "      <td>2007</td>\n",
       "      <td>7.6</td>\n",
       "      <td>122</td>\n",
       "      <td>Biography, Drama, Music</td>\n",
       "    </tr>\n",
       "    <tr>\n",
       "      <th>996</th>\n",
       "      <td>997</td>\n",
       "      <td>Les yeux sans visage</td>\n",
       "      <td>1960</td>\n",
       "      <td>7.6</td>\n",
       "      <td>90</td>\n",
       "      <td>Drama, Horror</td>\n",
       "    </tr>\n",
       "    <tr>\n",
       "      <th>997</th>\n",
       "      <td>998</td>\n",
       "      <td>Shine</td>\n",
       "      <td>1996</td>\n",
       "      <td>7.6</td>\n",
       "      <td>105</td>\n",
       "      <td>Biography, Drama, Music</td>\n",
       "    </tr>\n",
       "    <tr>\n",
       "      <th>998</th>\n",
       "      <td>999</td>\n",
       "      <td>The Invisible Man</td>\n",
       "      <td>1933</td>\n",
       "      <td>7.6</td>\n",
       "      <td>71</td>\n",
       "      <td>Horror, Sci-Fi</td>\n",
       "    </tr>\n",
       "    <tr>\n",
       "      <th>999</th>\n",
       "      <td>1000</td>\n",
       "      <td>Celda 211</td>\n",
       "      <td>2009</td>\n",
       "      <td>7.6</td>\n",
       "      <td>113</td>\n",
       "      <td>Action, Adventure, Crime</td>\n",
       "    </tr>\n",
       "  </tbody>\n",
       "</table>\n",
       "<p>1000 rows × 6 columns</p>\n",
       "</div>"
      ],
      "text/plain": [
       "     Rank                                          Title  Year Rating  \\\n",
       "0       1                       The Shawshank Redemption  1994    9.3   \n",
       "1       2                                  The Godfather  1972    9.2   \n",
       "2       3                                The Dark Knight  2008    9.0   \n",
       "3       4  The Lord of the Rings: The Return of the King  2003    9.0   \n",
       "4       5                               Schindler's List  1993    9.0   \n",
       "..    ...                                            ...   ...    ...   \n",
       "995   996                                        Control  2007    7.6   \n",
       "996   997                           Les yeux sans visage  1960    7.6   \n",
       "997   998                                          Shine  1996    7.6   \n",
       "998   999                              The Invisible Man  1933    7.6   \n",
       "999  1000                                      Celda 211  2009    7.6   \n",
       "\n",
       "    Run Time (min)                      Genre  \n",
       "0              142                      Drama  \n",
       "1              175               Crime, Drama  \n",
       "2              152       Action, Crime, Drama  \n",
       "3              201   Action, Adventure, Drama  \n",
       "4              195  Biography, Drama, History  \n",
       "..             ...                        ...  \n",
       "995            122    Biography, Drama, Music  \n",
       "996             90              Drama, Horror  \n",
       "997            105    Biography, Drama, Music  \n",
       "998             71             Horror, Sci-Fi  \n",
       "999            113   Action, Adventure, Crime  \n",
       "\n",
       "[1000 rows x 6 columns]"
      ]
     },
     "execution_count": 27,
     "metadata": {},
     "output_type": "execute_result"
    }
   ],
   "source": [
    "df"
   ]
  },
  {
   "cell_type": "markdown",
   "id": "23d76a98",
   "metadata": {},
   "source": [
    "## PUSHING DATA FRAME TO MYSQL"
   ]
  },
  {
   "cell_type": "code",
   "execution_count": 28,
   "id": "7a9618a2",
   "metadata": {},
   "outputs": [],
   "source": [
    "db = sql.connect(host=\"localhost\",\n",
    "                 user=\"root\",\n",
    "                 password=\"1234\",\n",
    "                 database=\"TOP_1000_IMDB_RATED_MOVIES\"\n",
    "                )"
   ]
  },
  {
   "cell_type": "code",
   "execution_count": 29,
   "id": "e1aa3fb0",
   "metadata": {},
   "outputs": [],
   "source": [
    "mycursor = db.cursor()"
   ]
  },
  {
   "cell_type": "code",
   "execution_count": 30,
   "id": "1018028c",
   "metadata": {},
   "outputs": [],
   "source": [
    "mycursor.execute(\"select database ()\")"
   ]
  },
  {
   "cell_type": "code",
   "execution_count": 31,
   "id": "a07f9584",
   "metadata": {},
   "outputs": [
    {
     "data": {
      "text/plain": [
       "[('top_1000_imdb_rated_movies',)]"
      ]
     },
     "execution_count": 31,
     "metadata": {},
     "output_type": "execute_result"
    }
   ],
   "source": [
    "mycursor.fetchall()"
   ]
  },
  {
   "cell_type": "code",
   "execution_count": 32,
   "id": "20226f26",
   "metadata": {},
   "outputs": [],
   "source": [
    "user='root'\n",
    "password='1234'\n",
    "host='localhost'\n",
    "database='TOP_1000_IMDB_RATED_MOVIES'"
   ]
  },
  {
   "cell_type": "code",
   "execution_count": 33,
   "id": "ec81accc",
   "metadata": {},
   "outputs": [],
   "source": [
    "mycursor.execute(\"use TOP_1000_IMDB_RATED_MOVIES\")"
   ]
  },
  {
   "cell_type": "code",
   "execution_count": 34,
   "id": "ccaa3d99",
   "metadata": {},
   "outputs": [],
   "source": [
    "engine = create_engine(f\"mysql+pymysql://{user}:{password}@{host}/{database}\")"
   ]
  },
  {
   "cell_type": "code",
   "execution_count": 35,
   "id": "12cfebf7",
   "metadata": {},
   "outputs": [
    {
     "data": {
      "text/plain": [
       "1000"
      ]
     },
     "execution_count": 35,
     "metadata": {},
     "output_type": "execute_result"
    }
   ],
   "source": [
    "df.to_sql(\"movies_details\",engine,index=False)"
   ]
  },
  {
   "cell_type": "markdown",
   "id": "8be660b4",
   "metadata": {},
   "source": [
    "## FETCHING DATA FROM MYSQL"
   ]
  },
  {
   "cell_type": "code",
   "execution_count": 36,
   "id": "a73a6a14",
   "metadata": {},
   "outputs": [],
   "source": [
    "mycursor.execute(\"use TOP_1000_IMDB_RATED_MOVIES\")"
   ]
  },
  {
   "cell_type": "code",
   "execution_count": 37,
   "id": "492704ca",
   "metadata": {},
   "outputs": [],
   "source": [
    "mycursor.execute(\"select database ()\")"
   ]
  },
  {
   "cell_type": "code",
   "execution_count": 38,
   "id": "63257589",
   "metadata": {},
   "outputs": [
    {
     "data": {
      "text/plain": [
       "[('top_1000_imdb_rated_movies',)]"
      ]
     },
     "execution_count": 38,
     "metadata": {},
     "output_type": "execute_result"
    }
   ],
   "source": [
    "mycursor.fetchall()"
   ]
  },
  {
   "cell_type": "code",
   "execution_count": 40,
   "id": "49781b72",
   "metadata": {},
   "outputs": [
    {
     "name": "stderr",
     "output_type": "stream",
     "text": [
      "C:\\Users\\BHAVESH\\anaconda3\\lib\\site-packages\\pandas\\io\\sql.py:761: UserWarning: pandas only support SQLAlchemy connectable(engine/connection) ordatabase string URI or sqlite3 DBAPI2 connectionother DBAPI2 objects are not tested, please consider using SQLAlchemy\n",
      "  warnings.warn(\n"
     ]
    }
   ],
   "source": [
    "movies_details_sql=pd.read_sql_query(\"select * from movies_details\",db)"
   ]
  },
  {
   "cell_type": "code",
   "execution_count": 41,
   "id": "19476da4",
   "metadata": {},
   "outputs": [
    {
     "data": {
      "text/html": [
       "<div>\n",
       "<style scoped>\n",
       "    .dataframe tbody tr th:only-of-type {\n",
       "        vertical-align: middle;\n",
       "    }\n",
       "\n",
       "    .dataframe tbody tr th {\n",
       "        vertical-align: top;\n",
       "    }\n",
       "\n",
       "    .dataframe thead th {\n",
       "        text-align: right;\n",
       "    }\n",
       "</style>\n",
       "<table border=\"1\" class=\"dataframe\">\n",
       "  <thead>\n",
       "    <tr style=\"text-align: right;\">\n",
       "      <th></th>\n",
       "      <th>Rank</th>\n",
       "      <th>Title</th>\n",
       "      <th>Year</th>\n",
       "      <th>Rating</th>\n",
       "      <th>Run Time (min)</th>\n",
       "      <th>Genre</th>\n",
       "    </tr>\n",
       "  </thead>\n",
       "  <tbody>\n",
       "    <tr>\n",
       "      <th>0</th>\n",
       "      <td>1</td>\n",
       "      <td>The Shawshank Redemption</td>\n",
       "      <td>1994</td>\n",
       "      <td>9.3</td>\n",
       "      <td>142</td>\n",
       "      <td>Drama</td>\n",
       "    </tr>\n",
       "    <tr>\n",
       "      <th>1</th>\n",
       "      <td>2</td>\n",
       "      <td>The Godfather</td>\n",
       "      <td>1972</td>\n",
       "      <td>9.2</td>\n",
       "      <td>175</td>\n",
       "      <td>Crime, Drama</td>\n",
       "    </tr>\n",
       "    <tr>\n",
       "      <th>2</th>\n",
       "      <td>3</td>\n",
       "      <td>The Dark Knight</td>\n",
       "      <td>2008</td>\n",
       "      <td>9.0</td>\n",
       "      <td>152</td>\n",
       "      <td>Action, Crime, Drama</td>\n",
       "    </tr>\n",
       "    <tr>\n",
       "      <th>3</th>\n",
       "      <td>4</td>\n",
       "      <td>The Lord of the Rings: The Return of the King</td>\n",
       "      <td>2003</td>\n",
       "      <td>9.0</td>\n",
       "      <td>201</td>\n",
       "      <td>Action, Adventure, Drama</td>\n",
       "    </tr>\n",
       "    <tr>\n",
       "      <th>4</th>\n",
       "      <td>5</td>\n",
       "      <td>Schindler's List</td>\n",
       "      <td>1993</td>\n",
       "      <td>9.0</td>\n",
       "      <td>195</td>\n",
       "      <td>Biography, Drama, History</td>\n",
       "    </tr>\n",
       "    <tr>\n",
       "      <th>...</th>\n",
       "      <td>...</td>\n",
       "      <td>...</td>\n",
       "      <td>...</td>\n",
       "      <td>...</td>\n",
       "      <td>...</td>\n",
       "      <td>...</td>\n",
       "    </tr>\n",
       "    <tr>\n",
       "      <th>995</th>\n",
       "      <td>996</td>\n",
       "      <td>Control</td>\n",
       "      <td>2007</td>\n",
       "      <td>7.6</td>\n",
       "      <td>122</td>\n",
       "      <td>Biography, Drama, Music</td>\n",
       "    </tr>\n",
       "    <tr>\n",
       "      <th>996</th>\n",
       "      <td>997</td>\n",
       "      <td>Les yeux sans visage</td>\n",
       "      <td>1960</td>\n",
       "      <td>7.6</td>\n",
       "      <td>90</td>\n",
       "      <td>Drama, Horror</td>\n",
       "    </tr>\n",
       "    <tr>\n",
       "      <th>997</th>\n",
       "      <td>998</td>\n",
       "      <td>Shine</td>\n",
       "      <td>1996</td>\n",
       "      <td>7.6</td>\n",
       "      <td>105</td>\n",
       "      <td>Biography, Drama, Music</td>\n",
       "    </tr>\n",
       "    <tr>\n",
       "      <th>998</th>\n",
       "      <td>999</td>\n",
       "      <td>The Invisible Man</td>\n",
       "      <td>1933</td>\n",
       "      <td>7.6</td>\n",
       "      <td>71</td>\n",
       "      <td>Horror, Sci-Fi</td>\n",
       "    </tr>\n",
       "    <tr>\n",
       "      <th>999</th>\n",
       "      <td>1000</td>\n",
       "      <td>Celda 211</td>\n",
       "      <td>2009</td>\n",
       "      <td>7.6</td>\n",
       "      <td>113</td>\n",
       "      <td>Action, Adventure, Crime</td>\n",
       "    </tr>\n",
       "  </tbody>\n",
       "</table>\n",
       "<p>1000 rows × 6 columns</p>\n",
       "</div>"
      ],
      "text/plain": [
       "     Rank                                          Title  Year Rating  \\\n",
       "0       1                       The Shawshank Redemption  1994    9.3   \n",
       "1       2                                  The Godfather  1972    9.2   \n",
       "2       3                                The Dark Knight  2008    9.0   \n",
       "3       4  The Lord of the Rings: The Return of the King  2003    9.0   \n",
       "4       5                               Schindler's List  1993    9.0   \n",
       "..    ...                                            ...   ...    ...   \n",
       "995   996                                        Control  2007    7.6   \n",
       "996   997                           Les yeux sans visage  1960    7.6   \n",
       "997   998                                          Shine  1996    7.6   \n",
       "998   999                              The Invisible Man  1933    7.6   \n",
       "999  1000                                      Celda 211  2009    7.6   \n",
       "\n",
       "    Run Time (min)                      Genre  \n",
       "0              142                      Drama  \n",
       "1              175               Crime, Drama  \n",
       "2              152       Action, Crime, Drama  \n",
       "3              201   Action, Adventure, Drama  \n",
       "4              195  Biography, Drama, History  \n",
       "..             ...                        ...  \n",
       "995            122    Biography, Drama, Music  \n",
       "996             90              Drama, Horror  \n",
       "997            105    Biography, Drama, Music  \n",
       "998             71             Horror, Sci-Fi  \n",
       "999            113   Action, Adventure, Crime  \n",
       "\n",
       "[1000 rows x 6 columns]"
      ]
     },
     "execution_count": 41,
     "metadata": {},
     "output_type": "execute_result"
    }
   ],
   "source": [
    "movies_details_sql"
   ]
  },
  {
   "cell_type": "markdown",
   "id": "9f910fa9",
   "metadata": {},
   "source": [
    "## EXPORTING DATA TO EXCEL FILE"
   ]
  },
  {
   "cell_type": "code",
   "execution_count": 44,
   "id": "7a5bf3fb",
   "metadata": {},
   "outputs": [],
   "source": [
    "df.to_csv(\"TOP_1000_IMDB_RATED_MOVIES_DETAILS.csv\",index=False)"
   ]
  },
  {
   "cell_type": "code",
   "execution_count": null,
   "id": "1285cf1d",
   "metadata": {},
   "outputs": [],
   "source": []
  }
 ],
 "metadata": {
  "kernelspec": {
   "display_name": "Python 3 (ipykernel)",
   "language": "python",
   "name": "python3"
  },
  "language_info": {
   "codemirror_mode": {
    "name": "ipython",
    "version": 3
   },
   "file_extension": ".py",
   "mimetype": "text/x-python",
   "name": "python",
   "nbconvert_exporter": "python",
   "pygments_lexer": "ipython3",
   "version": "3.9.15"
  }
 },
 "nbformat": 4,
 "nbformat_minor": 5
}
